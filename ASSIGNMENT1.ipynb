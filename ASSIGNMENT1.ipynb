{
 "cells": [
  {
   "cell_type": "markdown",
   "id": "6d3ea9bd-edb5-49b7-a6fb-bb61af8308d4",
   "metadata": {},
   "source": [
    "##example for Q2 "
   ]
  },
  {
   "cell_type": "code",
   "execution_count": null,
   "id": "c270bb53-f86a-4482-9198-768987f2ca24",
   "metadata": {},
   "outputs": [],
   "source": []
  },
  {
   "cell_type": "code",
   "execution_count": 10,
   "id": "7400bee1-c210-43ed-8ab9-650652dc30bd",
   "metadata": {},
   "outputs": [
    {
     "name": "stdin",
     "output_type": "stream",
     "text": [
      "input a number 3\n"
     ]
    },
    {
     "name": "stdout",
     "output_type": "stream",
     "text": [
      "3 iS odd\n"
     ]
    }
   ],
   "source": [
    "i= int(input(\"input a number\"))\n",
    "    # Use the print keyword to display the result\n",
    "if i%2==0:\n",
    "    print(f\"{i} iS even\")\n",
    "else:\n",
    "     print(f\"{i} iS odd\")"
   ]
  },
  {
   "cell_type": "markdown",
   "id": "41cbd053-c4c6-470a-ada5-3462f0a88f67",
   "metadata": {},
   "source": [
    "##example for Q3 1. IMMUTABLE INTEGER & STRINGS"
   ]
  },
  {
   "cell_type": "code",
   "execution_count": 3,
   "id": "49c43df4-cc60-45d4-bcdb-308226b41c76",
   "metadata": {},
   "outputs": [
    {
     "name": "stdout",
     "output_type": "stream",
     "text": [
      "world\n",
      "hello\n"
     ]
    }
   ],
   "source": [
    "s1 = \"hello\"\n",
    "s2 = s1\n",
    "s1 = \"world\"\n",
    "print(s1)  \n",
    "print(s2)  "
   ]
  },
  {
   "cell_type": "code",
   "execution_count": 2,
   "id": "edbf8446-d7ef-4981-9159-b92254449e92",
   "metadata": {},
   "outputs": [
    {
     "name": "stdout",
     "output_type": "stream",
     "text": [
      "15\n",
      "10\n"
     ]
    }
   ],
   "source": [
    "a = 10\n",
    "b = a\n",
    "a += 5\n",
    "print(a)  \n",
    "print(b)  "
   ]
  },
  {
   "cell_type": "markdown",
   "id": "99adabfb-cb06-4079-9e6b-d58a8381fbcc",
   "metadata": {},
   "source": [
    "##EXAMPLE FOR MUTABLE -list & sets"
   ]
  },
  {
   "cell_type": "code",
   "execution_count": 4,
   "id": "31d17788-d820-42bb-961a-ac293f62818f",
   "metadata": {},
   "outputs": [
    {
     "name": "stdout",
     "output_type": "stream",
     "text": [
      "[1, 2, 3, 4]\n",
      "[1, 2, 3, 4]\n"
     ]
    }
   ],
   "source": [
    "l1 = [1, 2, 3]\n",
    "l2 = l1\n",
    "l1.append(4)\n",
    "print(l1)  \n",
    "print(l2) "
   ]
  },
  {
   "cell_type": "code",
   "execution_count": 5,
   "id": "20471161-00d7-455e-9aad-3a577b0bf787",
   "metadata": {},
   "outputs": [
    {
     "name": "stdout",
     "output_type": "stream",
     "text": [
      "{1, 2, 3, 4}\n",
      "{1, 2, 3, 4}\n"
     ]
    }
   ],
   "source": [
    "s1 = {1, 2, 3}\n",
    "s2 = s1\n",
    "s1.add(4)\n",
    "print(s1) \n",
    "print(s2)  "
   ]
  },
  {
   "cell_type": "markdown",
   "id": "8130dfc0-158b-483d-80e8-543d2add0f6e",
   "metadata": {},
   "source": [
    "##Q4 OPERATOR IN PYTHON  "
   ]
  },
  {
   "cell_type": "markdown",
   "id": "8df8648b-ca56-4ee4-ae46-b8517007c7a8",
   "metadata": {},
   "source": [
    "##ARITHMETIC OPERATOR "
   ]
  },
  {
   "cell_type": "code",
   "execution_count": 10,
   "id": "a68fb95d-4320-4d91-951e-b10aa2a29dc2",
   "metadata": {},
   "outputs": [
    {
     "name": "stdout",
     "output_type": "stream",
     "text": [
      "72\n",
      "720\n",
      "2176782336000000000000\n",
      "5.0\n",
      "0\n"
     ]
    }
   ],
   "source": [
    "a = 60\n",
    "b= 12\n",
    "print(a+b)\n",
    "print(a*b)\n",
    "print(a**b)\n",
    "print(a/b)\n",
    "print(a%b)"
   ]
  },
  {
   "cell_type": "markdown",
   "id": "a4721266-c568-49cb-92c1-422d13f6b770",
   "metadata": {},
   "source": [
    "##Comparison operator"
   ]
  },
  {
   "cell_type": "code",
   "execution_count": 12,
   "id": "69da5367-033f-45d3-8d3b-c19dbe68fa20",
   "metadata": {},
   "outputs": [
    {
     "name": "stdout",
     "output_type": "stream",
     "text": [
      "False\n",
      "True\n",
      "True\n",
      "False\n",
      "True\n",
      "False\n"
     ]
    }
   ],
   "source": [
    "a = 100\n",
    "b = 70\n",
    "print(a == b)\n",
    "print(a!=b)\n",
    "print(a>b)\n",
    "print(a<b)\n",
    "print(a>=b)\n",
    "print(a<=b)\n"
   ]
  },
  {
   "cell_type": "markdown",
   "id": "69434959-73d7-41d6-a5f7-098f54de04b7",
   "metadata": {},
   "source": [
    "##logical operator"
   ]
  },
  {
   "cell_type": "code",
   "execution_count": 34,
   "id": "52147364-e5d4-458b-bd6d-5e7f8ea91c9f",
   "metadata": {},
   "outputs": [
    {
     "name": "stdout",
     "output_type": "stream",
     "text": [
      "False\n",
      "True\n",
      "False\n"
     ]
    }
   ],
   "source": [
    "x=False\n",
    "y=True\n",
    "print(x and y)\n",
    "print(x or y)\n",
    "print(not y )\n",
    "\n"
   ]
  },
  {
   "cell_type": "markdown",
   "id": "4f70c1d0-a4e3-4829-9120-7721f232db09",
   "metadata": {},
   "source": [
    "##assignment operator"
   ]
  },
  {
   "cell_type": "code",
   "execution_count": 33,
   "id": "56ebf2ca-e24c-4589-85f8-0f8bfbce9412",
   "metadata": {},
   "outputs": [
    {
     "name": "stdout",
     "output_type": "stream",
     "text": [
      "76\n",
      "68\n"
     ]
    }
   ],
   "source": [
    "s=69\n",
    "s+=7\n",
    "\n",
    "print (s)\n",
    "s-=8\n",
    "\n",
    "print (s)"
   ]
  },
  {
   "cell_type": "markdown",
   "id": "07286479-3c42-4f22-a5e7-af69ca6e7b0a",
   "metadata": {},
   "source": [
    "##bitwise operator"
   ]
  },
  {
   "cell_type": "code",
   "execution_count": 40,
   "id": "ba32bb41-7ed2-48aa-b8c8-e16c0a854db4",
   "metadata": {},
   "outputs": [
    {
     "name": "stdout",
     "output_type": "stream",
     "text": [
      "False\n",
      "False\n",
      "False\n",
      "True\n"
     ]
    }
   ],
   "source": [
    "a = 5  \n",
    "b = 3  \n",
    "print (result == a & b)\n",
    "print (result == a | b)\n",
    "print (result == a ^ b)\n",
    "print (result == ~a)\n"
   ]
  },
  {
   "cell_type": "markdown",
   "id": "39f5fe21-6cb1-4434-9197-b827e29a658a",
   "metadata": {},
   "source": [
    "##Q5 TYPE CAST"
   ]
  },
  {
   "cell_type": "code",
   "execution_count": 1,
   "id": "5f3abb96-c913-4e68-9437-0c6e711e6da6",
   "metadata": {},
   "outputs": [
    {
     "name": "stdout",
     "output_type": "stream",
     "text": [
      "10 apples\n"
     ]
    }
   ],
   "source": [
    "x = 10 # Integer\n",
    "y = \" apples\"\n",
    "\n",
    "result = str(x) + y # Convert integer to string\n",
    "print(result)"
   ]
  },
  {
   "cell_type": "markdown",
   "id": "be051420-e9d8-42a9-9f08-5a0b5d357d5d",
   "metadata": {},
   "source": [
    "##STRINGS TO INTEGERS "
   ]
  },
  {
   "cell_type": "code",
   "execution_count": 12,
   "id": "9cf5e849-27a3-4296-8d1b-4ed77d833460",
   "metadata": {},
   "outputs": [
    {
     "name": "stdout",
     "output_type": "stream",
     "text": [
      "25 5\n",
      "30\n"
     ]
    }
   ],
   "source": [
    "age = \"25\" \n",
    "print(age +\" 5\") \n",
    "age_int = int(age)\n",
    "print(age_int + 5) "
   ]
  },
  {
   "cell_type": "code",
   "execution_count": 4,
   "id": "2cc4d1bf-6fb6-4e55-a49e-b05e2a3d3d5a",
   "metadata": {},
   "outputs": [
    {
     "name": "stdout",
     "output_type": "stream",
     "text": [
      "8\n"
     ]
    }
   ],
   "source": [
    "z = 8.75\n",
    "z_int = int(z)\n",
    "print(z_int)"
   ]
  },
  {
   "cell_type": "code",
   "execution_count": 5,
   "id": "5228994e-3802-4a20-b7be-c8644c015f0a",
   "metadata": {},
   "outputs": [
    {
     "name": "stdout",
     "output_type": "stream",
     "text": [
      "(1, 2, 3)\n"
     ]
    }
   ],
   "source": [
    "my_list = [1, 2, 3]\n",
    "my_tuple = tuple(my_list) \n",
    "print(my_tuple)"
   ]
  },
  {
   "cell_type": "markdown",
   "id": "e08adb11-ffc0-4c73-bd23-2aac578214b6",
   "metadata": {},
   "source": [
    "##CONDITIONAL STATEMEN . if StatementT"
   ]
  },
  {
   "cell_type": "code",
   "execution_count": 13,
   "id": "1280f2f6-27f1-4239-8466-d2bf5b2111de",
   "metadata": {},
   "outputs": [
    {
     "name": "stdout",
     "output_type": "stream",
     "text": [
      "x is greater than 5\n"
     ]
    }
   ],
   "source": [
    "x = 10\n",
    "if x > 5:\n",
    "    print(\"x is greater than 5\")"
   ]
  },
  {
   "cell_type": "code",
   "execution_count": 15,
   "id": "a9872474-bd08-4bcd-af37-96047c2a5c71",
   "metadata": {},
   "outputs": [
    {
     "name": "stdout",
     "output_type": "stream",
     "text": [
      "x is less than or equal to 5\n"
     ]
    }
   ],
   "source": [
    "x = 3\n",
    "if x > 5:\n",
    "    print(\"x is greater than 5\")\n",
    "else:\n",
    "    print(\"x is less than or equal to 5\") "
   ]
  },
  {
   "cell_type": "code",
   "execution_count": 22,
   "id": "a3c80464-ef8b-4e28-8e3b-2d3a43b5d876",
   "metadata": {},
   "outputs": [
    {
     "name": "stdout",
     "output_type": "stream",
     "text": [
      "x is greater than 5 and y is greater than 15\n"
     ]
    }
   ],
   "source": [
    "x = 10\n",
    "y = 20\n",
    "if x > 5:\n",
    "    if y > 15:\n",
    "        print(\"x is greater than 5 and y is greater than 15\") "
   ]
  },
  {
   "cell_type": "code",
   "execution_count": 23,
   "id": "52d85b81-9b6a-4db1-97de-60f9c7c5bd5a",
   "metadata": {},
   "outputs": [
    {
     "name": "stdout",
     "output_type": "stream",
     "text": [
      "Both conditions are true\n",
      "x is not equal to 10\n"
     ]
    }
   ],
   "source": [
    "x = 15\n",
    "y = 10\n",
    "if x > 10 and y < 20:\n",
    "    print(\"Both conditions are true\") \n",
    "\n",
    "if not x == 10:\n",
    "    print(\"x is not equal to 10\") "
   ]
  },
  {
   "cell_type": "markdown",
   "id": "c6ce15fe-6da5-47c6-acb9-5a4b3fc892e8",
   "metadata": {},
   "source": [
    "##loops in Python "
   ]
  },
  {
   "cell_type": "code",
   "execution_count": 24,
   "id": "a86dca4d-94a9-42e4-b962-c61c25f83d7e",
   "metadata": {},
   "outputs": [
    {
     "name": "stdout",
     "output_type": "stream",
     "text": [
      "apple\n",
      "banana\n",
      "cherry\n"
     ]
    }
   ],
   "source": [
    "fruits = [\"apple\", \"banana\", \"cherry\"]\n",
    "for fruit in fruits:\n",
    "    print(fruit)"
   ]
  },
  {
   "cell_type": "code",
   "execution_count": 25,
   "id": "6e78d26f-910f-4a67-9892-3e554a170d02",
   "metadata": {},
   "outputs": [
    {
     "name": "stdout",
     "output_type": "stream",
     "text": [
      "0\n",
      "1\n",
      "2\n",
      "3\n",
      "4\n"
     ]
    }
   ],
   "source": [
    "x = 0\n",
    "while x < 5:\n",
    "    print(x)\n",
    "    x += 1"
   ]
  },
  {
   "cell_type": "code",
   "execution_count": null,
   "id": "bad280ab-6602-42ca-a684-7f88f798cdd0",
   "metadata": {},
   "outputs": [],
   "source": []
  }
 ],
 "metadata": {
  "kernelspec": {
   "display_name": "Python 3 (ipykernel)",
   "language": "python",
   "name": "python3"
  },
  "language_info": {
   "codemirror_mode": {
    "name": "ipython",
    "version": 3
   },
   "file_extension": ".py",
   "mimetype": "text/x-python",
   "name": "python",
   "nbconvert_exporter": "python",
   "pygments_lexer": "ipython3",
   "version": "3.10.8"
  }
 },
 "nbformat": 4,
 "nbformat_minor": 5
}
